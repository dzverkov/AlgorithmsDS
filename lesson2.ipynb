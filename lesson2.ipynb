{
 "cells": [
  {
   "cell_type": "code",
   "execution_count": 53,
   "metadata": {},
   "outputs": [],
   "source": [
    "import numpy as np\n",
    "import matplotlib.pyplot as plt\n",
    "import matplotlib.pyplot as plt\n",
    "\n",
    "%matplotlib inline"
   ]
  },
  {
   "cell_type": "code",
   "execution_count": 54,
   "metadata": {},
   "outputs": [],
   "source": [
    "X = np.array([[1, 1, 1, 1, 1, 1, 1, 1, 1, 1],\n",
    "              [1, 1, 2, 1, 3, 0, 5, 10, 1, 2],\n",
    "              [500, 700, 750, 600, 1450,\n",
    "               800, 1500, 2000, 450, 1000],\n",
    "              [1, 1, 2, 1, 2, \n",
    "               1, 3, 3, 1, 2]])"
   ]
  },
  {
   "cell_type": "code",
   "execution_count": 55,
   "metadata": {},
   "outputs": [],
   "source": [
    "y = [45, 55, 50, 59, 65,\n",
    "    35, 75, 80, 50, 60]"
   ]
  },
  {
   "cell_type": "markdown",
   "metadata": {},
   "source": [
    "### 1. Постройте график зависимости весов всех признаков от lambda в L2-регуляризации (на данных из урока)."
   ]
  },
  {
   "cell_type": "code",
   "execution_count": 56,
   "metadata": {},
   "outputs": [],
   "source": [
    "def calc_mse(y, y_pred):\n",
    "  err = np.mean((y - y_pred)**2)\n",
    "  return err"
   ]
  },
  {
   "cell_type": "code",
   "execution_count": 57,
   "metadata": {},
   "outputs": [],
   "source": [
    "def calc_std_feat(x):\n",
    "  res = (x - x.mean()) / x.std()\n",
    "  return res"
   ]
  },
  {
   "cell_type": "code",
   "execution_count": 58,
   "metadata": {},
   "outputs": [],
   "source": [
    "def eval_model_reg2(X, y, iterations, alpha=1e-4, lambda_=1e-8, output=True):\n",
    "  np.random.seed(211)\n",
    "  W = np.random.randn(X.shape[0])\n",
    "  n = X.shape[1]\n",
    "  for i in range(1, iterations+1):\n",
    "    y_pred = np.dot(W, X)\n",
    "    err = calc_mse(y, y_pred)\n",
    "    W -= alpha * (1/n * 2 * np.dot((y_pred - y), X.T) + lambda_ * W)\n",
    "    if output and i % (iterations / 10) == 0:\n",
    "      print(i, W, err)\n",
    "  return W"
   ]
  },
  {
   "cell_type": "code",
   "execution_count": 59,
   "metadata": {},
   "outputs": [
    {
     "data": {
      "text/plain": [
       "array([[ 1.        ,  1.        ,  1.        ,  1.        ,  1.        ,\n",
       "         1.        ,  1.        ,  1.        ,  1.        ,  1.        ],\n",
       "       [-0.57142857, -0.57142857, -0.21428571, -0.57142857,  0.14285714,\n",
       "        -0.92857143,  0.85714286,  2.64285714, -0.57142857, -0.21428571],\n",
       "       [-0.97958969, -0.56713087, -0.46401617, -0.77336028,  0.97958969,\n",
       "        -0.36090146,  1.08270439,  2.11385144, -1.08270439,  0.05155735],\n",
       "       [ 1.        ,  1.        ,  2.        ,  1.        ,  2.        ,\n",
       "         1.        ,  3.        ,  3.        ,  1.        ,  2.        ]])"
      ]
     },
     "execution_count": 59,
     "metadata": {},
     "output_type": "execute_result"
    }
   ],
   "source": [
    "X_st = X.copy().astype(np.float64)\n",
    "for i in range(1, 3):\n",
    "    X_st[i] = calc_std_feat(X[i])\n",
    "X_st"
   ]
  },
  {
   "cell_type": "code",
   "execution_count": 63,
   "metadata": {
    "scrolled": true
   },
   "outputs": [
    {
     "name": "stdout",
     "output_type": "stream",
     "text": [
      "1000 [29.32400399  3.31607187 -3.74161852 16.20707712] 53.890831851026135\n",
      "2000 [37.3300907   4.80723467 -1.89264333 11.62839755] 44.550984722358564\n",
      "3000 [41.95261778  5.39750465 -0.55380638  8.98315931] 41.40768087738043\n",
      "4000 [44.63855592  5.70266679  0.26202925  7.44590715] 40.33759345568483\n",
      "5000 [46.20160604  5.87500263  0.7420563   6.55129   ] 39.97184130062493\n",
      "6000 [47.11153434  5.97460015  1.02223288  6.03048503] 39.846094716552315\n",
      "7000 [47.64129403  6.03248494  1.18545254  5.72727211] 39.802441378505975\n",
      "8000 [47.94972612  6.06617215  1.28049488  5.55073802] 39.78704520049178\n",
      "9000 [48.12929966  6.08578339  1.33583182  5.44795737] 39.78147764832252\n",
      "10000 [48.23385004  6.09720108  1.36805007  5.38811694] 39.779387405538486\n"
     ]
    },
    {
     "data": {
      "text/plain": [
       "array([48.23385004,  6.09720108,  1.36805007,  5.38811694])"
      ]
     },
     "execution_count": 63,
     "metadata": {},
     "output_type": "execute_result"
    }
   ],
   "source": [
    "eval_model_reg2(X_st, y, iterations=10000, alpha=1e-2, lambda_=1e-4)"
   ]
  },
  {
   "cell_type": "code",
   "execution_count": 64,
   "metadata": {},
   "outputs": [
    {
     "data": {
      "text/plain": [
       "array([1.00000000e-08, 1.33352143e-07, 1.77827941e-06, 2.37137371e-05,\n",
       "       3.16227766e-04, 4.21696503e-03, 5.62341325e-02, 7.49894209e-01,\n",
       "       1.00000000e+01])"
      ]
     },
     "execution_count": 64,
     "metadata": {},
     "output_type": "execute_result"
    }
   ],
   "source": [
    "lambda_arr = np.logspace(-8, 1, 9)\n",
    "lambda_arr"
   ]
  },
  {
   "cell_type": "code",
   "execution_count": 108,
   "metadata": {},
   "outputs": [
    {
     "data": {
      "text/plain": [
       "[array([46.24729209,  5.88266984,  0.75296495,  6.52560121]),\n",
       " array([46.24723566,  5.88266037,  0.75295147,  6.52563294]),\n",
       " array([46.24648317,  5.88253412,  0.75277176,  6.52605607]),\n",
       " array([46.23645152,  5.88085087,  0.75037606,  6.53169685]),\n",
       " array([46.1031943 ,  5.85847422,  0.71857469,  6.60662211]),\n",
       " array([44.41423818,  5.57202466,  0.31927089,  7.55539193]),\n",
       " array([31.50505347,  3.12465525, -2.3707783 , 14.70914577]),\n",
       " array([15.90637685, -0.64692366, -2.43080506, 20.89974894]),\n",
       " array([ 6.4216153 ,  0.52209111,  0.40396009, 11.1001813 ])]"
      ]
     },
     "execution_count": 108,
     "metadata": {},
     "output_type": "execute_result"
    }
   ],
   "source": [
    "w_arr = []\n",
    "for lmd in lambda_arr:\n",
    "    w = eval_model_reg2(X_st, y, iterations=5000, alpha=1e-2, lambda_=lmd, output=False)\n",
    "    w_arr.append(w)\n",
    "w_arr    "
   ]
  },
  {
   "cell_type": "code",
   "execution_count": 109,
   "metadata": {},
   "outputs": [
    {
     "data": {
      "image/png": "[encoded data removed]",
      "text/plain": [
       "<Figure size 432x288 with 1 Axes>"
      ]
     },
     "metadata": {
      "needs_background": "light"
     },
     "output_type": "display_data"
    }
   ],
   "source": [
    "w_arr = np.array(w_arr)\n",
    "for i in range(len(w_arr[0])):\n",
    "    plt.plot(lambda_arr, w_arr[:, i])\n",
    "plt.show()    "
   ]
  },
  {
   "cell_type": "markdown",
   "metadata": {},
   "source": [
    "### 2. Можно ли к одному и тому же признаку применить сразу и нормализацию, и стандартизацию?"
   ]
  },
  {
   "cell_type": "code",
   "execution_count": 67,
   "metadata": {
    "scrolled": false
   },
   "outputs": [
    {
     "data": {
      "text/plain": [
       "(array([3., 2., 1., 1., 0., 0., 2., 0., 0., 1.]),\n",
       " array([ 450.,  605.,  760.,  915., 1070., 1225., 1380., 1535., 1690.,\n",
       "        1845., 2000.]),\n",
       " <a list of 10 Patch objects>)"
      ]
     },
     "execution_count": 67,
     "metadata": {},
     "output_type": "execute_result"
    },
    {
     "data": {
      "image/png": "[encoded data removed]",
      "text/plain": [
       "<Figure size 432x288 with 1 Axes>"
      ]
     },
     "metadata": {
      "needs_background": "light"
     },
     "output_type": "display_data"
    }
   ],
   "source": [
    "plt.hist(X[2])"
   ]
  },
  {
   "cell_type": "code",
   "execution_count": 77,
   "metadata": {},
   "outputs": [],
   "source": [
    "X_s = X[2].copy()\n",
    "X_s = X_s.astype(np.float64)\n",
    "X_s = (X_s - X_s.mean()) / X_s.std()"
   ]
  },
  {
   "cell_type": "code",
   "execution_count": 78,
   "metadata": {
    "scrolled": true
   },
   "outputs": [
    {
     "data": {
      "text/plain": [
       "(array([3., 2., 1., 1., 0., 0., 2., 0., 0., 1.]),\n",
       " array([-1.08270439, -0.76304881, -0.44339323, -0.12373764,  0.19591794,\n",
       "         0.51557352,  0.8352291 ,  1.15488469,  1.47454027,  1.79419585,\n",
       "         2.11385144]),\n",
       " <a list of 10 Patch objects>)"
      ]
     },
     "execution_count": 78,
     "metadata": {},
     "output_type": "execute_result"
    },
    {
     "data": {
      "image/png": "[encoded data removed]",
      "text/plain": [
       "<Figure size 432x288 with 1 Axes>"
      ]
     },
     "metadata": {
      "needs_background": "light"
     },
     "output_type": "display_data"
    }
   ],
   "source": [
    "plt.hist(X_s)"
   ]
  },
  {
   "cell_type": "code",
   "execution_count": 85,
   "metadata": {},
   "outputs": [],
   "source": [
    "X_s = (X_s - X_s.min()) / (X_s.max() - X_s.min())"
   ]
  },
  {
   "cell_type": "code",
   "execution_count": 87,
   "metadata": {},
   "outputs": [
    {
     "data": {
      "text/plain": [
       "(array([3., 2., 1., 1., 0., 0., 2., 0., 0., 1.]),\n",
       " array([0. , 0.1, 0.2, 0.3, 0.4, 0.5, 0.6, 0.7, 0.8, 0.9, 1. ]),\n",
       " <a list of 10 Patch objects>)"
      ]
     },
     "execution_count": 87,
     "metadata": {},
     "output_type": "execute_result"
    },
    {
     "data": {
      "image/png": "[encoded data removed]",
      "text/plain": [
       "<Figure size 432x288 with 1 Axes>"
      ]
     },
     "metadata": {
      "needs_background": "light"
     },
     "output_type": "display_data"
    }
   ],
   "source": [
    "plt.hist(X_s)"
   ]
  },
  {
   "cell_type": "code",
   "execution_count": 92,
   "metadata": {},
   "outputs": [],
   "source": [
    "X_s = X[2].copy()\n",
    "X_s = X_s.astype(np.float64)\n",
    "X_s = (X_s - X_s.min()) / (X_s.max() - X_s.min())\n",
    "X_s = (X_s - X_s.mean()) / X_s.std()"
   ]
  },
  {
   "cell_type": "code",
   "execution_count": 93,
   "metadata": {},
   "outputs": [
    {
     "data": {
      "text/plain": [
       "(array([3., 2., 1., 1., 0., 0., 2., 0., 0., 1.]),\n",
       " array([-1.08270439, -0.76304881, -0.44339323, -0.12373764,  0.19591794,\n",
       "         0.51557352,  0.8352291 ,  1.15488469,  1.47454027,  1.79419585,\n",
       "         2.11385144]),\n",
       " <a list of 10 Patch objects>)"
      ]
     },
     "execution_count": 93,
     "metadata": {},
     "output_type": "execute_result"
    },
    {
     "data": {
      "image/png": "[encoded data removed]",
      "text/plain": [
       "<Figure size 432x288 with 1 Axes>"
      ]
     },
     "metadata": {
      "needs_background": "light"
     },
     "output_type": "display_data"
    }
   ],
   "source": [
    "plt.hist(X_s)"
   ]
  },
  {
   "cell_type": "markdown",
   "metadata": {},
   "source": [
    "#### Если последовательность стандартизация->нормализация, то операции дополняют друг друга, в обратном порядке \n",
    "##### нормализация эффекта не имеет."
   ]
  },
  {
   "cell_type": "markdown",
   "metadata": {},
   "source": [
    "### 3*. Напишите функцию наподобие eval_model_reg2, но для применения L1-регуляризации."
   ]
  },
  {
   "cell_type": "code",
   "execution_count": 96,
   "metadata": {},
   "outputs": [],
   "source": [
    "def eval_model_reg1(X, y, iterations, alpha=1e-4, lambda_=1e-8, output=True):\n",
    "  np.random(211)\n",
    "  W = np.random.randn(X.shape[0])\n",
    "  n = X.shape[1]\n",
    "  for i in range(1, iterations+1):\n",
    "    y_pred = np.dot(W, X)\n",
    "    err = calc_mse(y, y_pred)\n",
    "    W -= (alpha * (1/n * 2 * np.dot((y_pred - y), X.T) + lambda_/2 * np.sign(W)))\n",
    "    if output and i % (iterations / 10) == 0:\n",
    "      print(i, W, err)\n",
    "  return W"
   ]
  },
  {
   "cell_type": "code",
   "execution_count": 97,
   "metadata": {},
   "outputs": [
    {
     "name": "stdout",
     "output_type": "stream",
     "text": [
      "1000 [29.32400399  3.31607187 -3.74161852 16.20707712] 53.890831851026135\n",
      "2000 [37.3300907   4.80723467 -1.89264333 11.62839755] 44.550984722358564\n",
      "3000 [41.95261778  5.39750465 -0.55380638  8.98315931] 41.40768087738043\n",
      "4000 [44.63855592  5.70266679  0.26202925  7.44590715] 40.33759345568483\n",
      "5000 [46.20160604  5.87500263  0.7420563   6.55129   ] 39.97184130062493\n",
      "6000 [47.11153434  5.97460015  1.02223288  6.03048503] 39.846094716552315\n",
      "7000 [47.64129403  6.03248494  1.18545254  5.72727211] 39.802441378505975\n",
      "8000 [47.94972612  6.06617215  1.28049488  5.55073802] 39.78704520049178\n",
      "9000 [48.12929966  6.08578339  1.33583182  5.44795737] 39.78147764832252\n",
      "10000 [48.23385004  6.09720108  1.36805007  5.38811694] 39.779387405538486\n"
     ]
    },
    {
     "data": {
      "text/plain": [
       "array([48.23385004,  6.09720108,  1.36805007,  5.38811694])"
      ]
     },
     "execution_count": 97,
     "metadata": {},
     "output_type": "execute_result"
    }
   ],
   "source": [
    "eval_model_reg2(X_st, y, iterations=10000, alpha=1e-2, lambda_=1e-4)"
   ]
  },
  {
   "cell_type": "code",
   "execution_count": 106,
   "metadata": {},
   "outputs": [
    {
     "data": {
      "text/plain": [
       "[array([29.33055801,  3.31834736, -3.74164815, 16.20377926]),\n",
       " array([29.33054992,  3.31834456, -3.74164811, 16.20378333]),\n",
       " array([29.33044207,  3.31830711, -3.74164763, 16.2038376 ]),\n",
       " array([29.32900395,  3.31780781, -3.74164114, 16.20456126]),\n",
       " array([29.30984448,  3.311156  , -3.74155378, 16.21420105]),\n",
       " array([29.05755053,  3.22360508, -3.74023143, 16.34093402]),\n",
       " array([26.19352691,  2.23662182, -3.69893332, 17.74741131]),\n",
       " array([15.90563446, -0.64705179, -2.43098667, 20.90017358]),\n",
       " array([ 6.4216153 ,  0.52209111,  0.40396009, 11.1001813 ])]"
      ]
     },
     "execution_count": 106,
     "metadata": {},
     "output_type": "execute_result"
    }
   ],
   "source": [
    "w_arr = []\n",
    "for lmd in lambda_arr:\n",
    "    w = eval_model_reg2(X_st, y, iterations=1000, alpha=1e-2, lambda_=lmd, output=False)\n",
    "    w_arr.append(w)\n",
    "w_arr  "
   ]
  },
  {
   "cell_type": "code",
   "execution_count": 107,
   "metadata": {},
   "outputs": [
    {
     "data": {
      "image/png": "[encoded data removed]",
      "text/plain": [
       "<Figure size 432x288 with 1 Axes>"
      ]
     },
     "metadata": {
      "needs_background": "light"
     },
     "output_type": "display_data"
    }
   ],
   "source": [
    "w_arr = np.array(w_arr)\n",
    "for i in range(len(w_arr[0])):\n",
    "    plt.plot(lambda_arr, w_arr[:, i])\n",
    "plt.show()    "
   ]
  },
  {
   "cell_type": "code",
   "execution_count": null,
   "metadata": {},
   "outputs": [],
   "source": []
  }
 ],
 "metadata": {
  "kernelspec": {
   "display_name": "Python 3",
   "language": "python",
   "name": "python3"
  },
  "language_info": {
   "codemirror_mode": {
    "name": "ipython",
    "version": 3
   },
   "file_extension": ".py",
   "mimetype": "text/x-python",
   "name": "python",
   "nbconvert_exporter": "python",
   "pygments_lexer": "ipython3",
   "version": "3.7.1"
  }
 },
 "nbformat": 4,
 "nbformat_minor": 2
}
