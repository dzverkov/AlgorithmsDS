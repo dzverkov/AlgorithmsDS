{
 "cells": [
  {
   "cell_type": "markdown",
   "metadata": {},
   "source": [
    "1. Подберите скорость обучения (alpha) и количество итераций:"
   ]
  },
  {
   "cell_type": "code",
   "execution_count": 6,
   "metadata": {},
   "outputs": [],
   "source": [
    "import numpy as np\n",
    "import matplotlib.pyplot as plt"
   ]
  },
  {
   "cell_type": "code",
   "execution_count": 7,
   "metadata": {},
   "outputs": [],
   "source": [
    "X = np.array([[1, 1, 1, 1, 1, 1, 1, 1, 1, 1],\n",
    "              [1, 1, 2, 1, 3, 0, 5, 10, 1, 2]])"
   ]
  },
  {
   "cell_type": "code",
   "execution_count": 8,
   "metadata": {},
   "outputs": [],
   "source": [
    "y = [45, 55, 50, 59, 65, 35, 75, 80, 50, 60]"
   ]
  },
  {
   "cell_type": "code",
   "execution_count": 9,
   "metadata": {},
   "outputs": [],
   "source": [
    "def calc_mse(y, y_pred):\n",
    "  err = np.mean((y - y_pred)**2)\n",
    "  return err"
   ]
  },
  {
   "cell_type": "code",
   "execution_count": 57,
   "metadata": {},
   "outputs": [
    {
     "data": {
      "text/plain": [
       "(array([1. , 0.5]), 0.01)"
      ]
     },
     "execution_count": 57,
     "metadata": {},
     "output_type": "execute_result"
    }
   ],
   "source": [
    "n = X.shape[1]\n",
    "alpha = 1e-2\n",
    "W = np.array([1, 0.5])\n",
    "W, alpha"
   ]
  },
  {
   "cell_type": "code",
   "execution_count": 31,
   "metadata": {},
   "outputs": [
    {
     "name": "stdout",
     "output_type": "stream",
     "text": [
      "0 [2.102 3.9  ] 3173.15\n",
      "100 [31.88770806  6.74418155] 175.19445858001853\n",
      "200 [41.83683774  4.90699865] 61.9177717428135\n",
      "300 [45.33508261  4.26102097] 47.913169919666785\n",
      "400 [46.56511152  4.03388672] 46.181755648107604\n",
      "500 [46.99760587  3.95402334] 45.96769776787538\n",
      "600 [47.14967657  3.92594232] 45.941233404700036\n",
      "700 [47.20314662  3.91606866] 45.93796156758051\n",
      "800 [47.2219474   3.91259695] 45.93755706443538\n",
      "900 [47.228558    3.91137626] 45.937507054979434\n"
     ]
    }
   ],
   "source": [
    "for i in range(1000):\n",
    "  y_pred = np.dot(W, X)\n",
    "  err = calc_mse(y, y_pred)\n",
    "  for ii in range(W.shape[0]):\n",
    "    W[ii] -= alpha * (1/n * 2 * np.sum(X[ii] * (y_pred - y)))\n",
    "  if i % 100 == 0:\n",
    "    print(i, W, err)"
   ]
  },
  {
   "cell_type": "markdown",
   "metadata": {},
   "source": [
    "*2. В этом коде мы избавляемся от итераций по весам, но тут есть ошибка, исправьте ее:"
   ]
  },
  {
   "cell_type": "code",
   "execution_count": 43,
   "metadata": {
    "scrolled": true
   },
   "outputs": [
    {
     "name": "stdout",
     "output_type": "stream",
     "text": [
      "0 [2.102 3.9  ] 3173.15\n",
      "100 [31.88770806  6.74418155] 175.19445858001853\n",
      "200 [41.83683774  4.90699865] 61.9177717428135\n",
      "300 [45.33508261  4.26102097] 47.913169919666785\n",
      "400 [46.56511152  4.03388672] 46.181755648107604\n",
      "500 [46.99760587  3.95402334] 45.96769776787538\n",
      "600 [47.14967657  3.92594232] 45.941233404700036\n",
      "700 [47.20314662  3.91606866] 45.93796156758051\n",
      "800 [47.2219474   3.91259695] 45.93755706443538\n",
      "900 [47.228558    3.91137626] 45.937507054979434\n"
     ]
    }
   ],
   "source": [
    "for i in range(1000):\n",
    "  y_pred = np.dot(W, X)\n",
    "  err = calc_mse(y, y_pred)\n",
    "  '''for ii in range(W.shape[0]):\n",
    "    W[ii] -= alpha * (1/n * 2 * np.sum(X[ii] * (y_pred - y)))'''\n",
    "  W -= (alpha * (1/n * 2 * np.sum(X * (y_pred - y), axis=1)))\n",
    "  if i % 100 == 0:\n",
    "    print(i, W, err)"
   ]
  },
  {
   "cell_type": "markdown",
   "metadata": {},
   "source": [
    "*3: вместо того, чтобы задавать количество итераций, задайте условие остановки алгоритма - когда ошибка за итерацию\n",
    "начинает изменяться ниже определенного порога (упрощенный аналог параметра tol в линейной регрессии в sklearn)"
   ]
  },
  {
   "cell_type": "code",
   "execution_count": 63,
   "metadata": {},
   "outputs": [
    {
     "name": "stdout",
     "output_type": "stream",
     "text": [
      "0 [2.102 3.9  ] 3173.15\n",
      "100 [31.88770806  6.74418155] 175.19445858001853\n",
      "200 [41.83683774  4.90699865] 61.9177717428135\n",
      "300 [45.33508261  4.26102097] 47.913169919666785\n",
      "400 [46.56511152  4.03388672] 46.181755648107604\n",
      "500 [46.99760587  3.95402334] 45.96769776787538\n",
      "600 [47.14967657  3.92594232] 45.941233404700036\n",
      "700 [47.20314662  3.91606866] 45.93796156758051\n",
      "800 [47.2219474   3.91259695] 45.93755706443538\n",
      "810 [47.22295925  3.91241011] 45.937546299739466\n"
     ]
    }
   ],
   "source": [
    "W = np.array([1, 0.5])\n",
    "max_iter = 1000\n",
    "i = 0\n",
    "eps = 1e-6\n",
    "# Будем хранить последние 3 ошибки\n",
    "errs = [1,1,1]\n",
    "\n",
    "while(i < max_iter):\n",
    "  y_pred = np.dot(W, X)\n",
    "  err = calc_mse(y, y_pred)\n",
    "  errs[i%3] = err  \n",
    "  W -= (alpha * (1/n * 2 * np.sum(X * (y_pred - y), axis=1)))\n",
    "  if abs(np.mean(errs) - err) < eps:\n",
    "    print(i, W, err)\n",
    "    break\n",
    "  if i % 100 == 0:\n",
    "    print(i, W, err)\n",
    "  i+=1  \n",
    "    "
   ]
  },
  {
   "cell_type": "code",
   "execution_count": 61,
   "metadata": {},
   "outputs": [
    {
     "data": {
      "text/plain": [
       "9.78058999123732e-07"
      ]
     },
     "execution_count": 61,
     "metadata": {},
     "output_type": "execute_result"
    }
   ],
   "source": [
    "45.937547277798465 - 45.937546299739466"
   ]
  },
  {
   "cell_type": "code",
   "execution_count": null,
   "metadata": {},
   "outputs": [],
   "source": []
  },
  {
   "cell_type": "code",
   "execution_count": null,
   "metadata": {},
   "outputs": [],
   "source": []
  },
  {
   "cell_type": "code",
   "execution_count": 33,
   "metadata": {},
   "outputs": [
    {
     "data": {
      "text/plain": [
       "array([[ 1,  1,  1,  1,  1,  1,  1,  1,  1,  1],\n",
       "       [ 1,  1,  2,  1,  3,  0,  5, 10,  1,  2]])"
      ]
     },
     "execution_count": 33,
     "metadata": {},
     "output_type": "execute_result"
    }
   ],
   "source": [
    "X"
   ]
  },
  {
   "cell_type": "code",
   "execution_count": 39,
   "metadata": {},
   "outputs": [
    {
     "data": {
      "text/plain": [
       "array([2. , 5.2])"
      ]
     },
     "execution_count": 39,
     "metadata": {},
     "output_type": "execute_result"
    }
   ],
   "source": [
    "np.sum(X, axis=1)*2*1/10"
   ]
  },
  {
   "cell_type": "code",
   "execution_count": 40,
   "metadata": {},
   "outputs": [
    {
     "data": {
      "text/plain": [
       "array([51.14187053, 51.14187053, 55.05284598, 51.14187053, 58.96382143,\n",
       "       47.23089509, 66.78577232, 86.34064955, 51.14187053, 55.05284598])"
      ]
     },
     "execution_count": 40,
     "metadata": {},
     "output_type": "execute_result"
    }
   ],
   "source": [
    "np.dot(W, X)"
   ]
  },
  {
   "cell_type": "code",
   "execution_count": 44,
   "metadata": {},
   "outputs": [
    {
     "data": {
      "text/plain": [
       "array([ 6.14181862, -3.85818138,  5.05276811, -7.85818138, -6.0362824 ,\n",
       "       12.23086913, -8.21438342,  6.34036402,  1.14181862, -4.94723189])"
      ]
     },
     "execution_count": 44,
     "metadata": {},
     "output_type": "execute_result"
    }
   ],
   "source": [
    "np.dot(W, X)-y"
   ]
  },
  {
   "cell_type": "code",
   "execution_count": 46,
   "metadata": {},
   "outputs": [
    {
     "data": {
      "text/plain": [
       "array([[  6.14181862,  -3.85818138,   5.05276811,  -7.85818138,\n",
       "         -6.0362824 ,  12.23086913,  -8.21438342,   6.34036402,\n",
       "          1.14181862,  -4.94723189],\n",
       "       [  6.14181862,  -3.85818138,  10.10553622,  -7.85818138,\n",
       "        -18.10884721,   0.        , -41.07191712,  63.40364021,\n",
       "          1.14181862,  -9.89446378]])"
      ]
     },
     "execution_count": 46,
     "metadata": {},
     "output_type": "execute_result"
    }
   ],
   "source": [
    "y_pred = np.dot(W, X)\n",
    "X * (y_pred - y)"
   ]
  },
  {
   "cell_type": "code",
   "execution_count": 48,
   "metadata": {},
   "outputs": [
    {
     "data": {
      "text/plain": [
       "1.0"
      ]
     },
     "execution_count": 48,
     "metadata": {},
     "output_type": "execute_result"
    }
   ],
   "source": [
    "errs = [1,1,1]\n",
    "np.mean(errs)"
   ]
  },
  {
   "cell_type": "code",
   "execution_count": null,
   "metadata": {},
   "outputs": [],
   "source": []
  }
 ],
 "metadata": {
  "kernelspec": {
   "display_name": "Python 3",
   "language": "python",
   "name": "python3"
  },
  "language_info": {
   "codemirror_mode": {
    "name": "ipython",
    "version": 3
   },
   "file_extension": ".py",
   "mimetype": "text/x-python",
   "name": "python",
   "nbconvert_exporter": "python",
   "pygments_lexer": "ipython3",
   "version": "3.7.1"
  }
 },
 "nbformat": 4,
 "nbformat_minor": 2
}
